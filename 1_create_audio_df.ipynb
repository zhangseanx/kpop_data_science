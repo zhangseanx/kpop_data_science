{
 "cells": [
  {
   "cell_type": "markdown",
   "metadata": {},
   "source": [
    "# KPop song clustering\n",
    "\n",
    "### Objective: Used unsupervised learning to cluster korean pop songs that I like (in playlist). Compare with Anime playlist. Compare with \"iconic\" KPop playlist\n",
    "\n",
    "### Methodology: 1) Create dataset with track name, artist, audio features, playlist name, like y/n"
   ]
  },
  {
   "cell_type": "code",
   "execution_count": 1,
   "metadata": {},
   "outputs": [],
   "source": [
    "import spotipy \n",
    "from spotipy.oauth2 import SpotifyClientCredentials\n",
    "import requests\n",
    "import time\n",
    "import pandas as pd\n",
    "import numpy as np"
   ]
  },
  {
   "cell_type": "code",
   "execution_count": 2,
   "metadata": {},
   "outputs": [],
   "source": [
    "#Authorize credentials\n",
    "#Note that with the free version, API calls are limited\n",
    "cid = \"c433ddf327d64bbcbae13b46dc5a56c9\" \n",
    "secret = \"ed9ffb3511ff4bb7910d520564ddbd79\" \n",
    "user_id = '22pjtm23jl5h4qq4srfwxwxqa' #my playlists\n",
    "client_credentials_manager = SpotifyClientCredentials(client_id=cid, client_secret=secret) \n",
    "sp = spotipy.Spotify(client_credentials_manager=client_credentials_manager)"
   ]
  },
  {
   "cell_type": "code",
   "execution_count": 3,
   "metadata": {},
   "outputs": [],
   "source": [
    "def getplayListDict(user_id):\n",
    "    playlists = sp.user_playlists(user_id)\n",
    "    names = [x['name'] for x in playlists['items']]\n",
    "    ids = [x['id'] for x in playlists['items']]\n",
    "    return dict(zip(names, ids))"
   ]
  },
  {
   "cell_type": "code",
   "execution_count": 4,
   "metadata": {},
   "outputs": [],
   "source": [
    "def getTrackInfoFromPlaylist(user_id, playlist_id):\n",
    "    offset = 0\n",
    "    songs = []\n",
    "    while True:\n",
    "        content = sp.user_playlist_tracks(user_id, playlist_id, limit = 50, offset=offset)\n",
    "        songs += content['items']\n",
    "        if content['next'] is not None:\n",
    "            offset+=50\n",
    "        else:\n",
    "            break\n",
    "    names = [x['track']['name'] for x in songs]\n",
    "    ids = [x['track']['id'] for x in songs]\n",
    "    artists = [x['track']['artists'][0]['name'] for x in songs]\n",
    "    df = pd.DataFrame({'Track Name': names, 'Track ID': ids, 'Artist': artists})\n",
    "    return df"
   ]
  },
  {
   "cell_type": "code",
   "execution_count": 5,
   "metadata": {},
   "outputs": [],
   "source": [
    "offset = 0\n",
    "songs = []\n",
    "items = []\n",
    "ids = []\n",
    "while True:\n",
    "    content = sp.user_playlist_tracks(user_id, '3UeJumqoZFSXqRQ9b3F6SB', limit = 50, offset=offset)\n",
    "    songs += content['items']\n",
    "    if content['next'] is not None:\n",
    "        offset+=50\n",
    "    else:\n",
    "        break"
   ]
  },
  {
   "cell_type": "code",
   "execution_count": 6,
   "metadata": {},
   "outputs": [],
   "source": [
    "my_playlist = getplayListDict(user_id)"
   ]
  },
  {
   "cell_type": "code",
   "execution_count": 7,
   "metadata": {},
   "outputs": [
    {
     "data": {
      "text/plain": [
       "{'Kpop girl group songs that were a cultural reset': '3UeJumqoZFSXqRQ9b3F6SB',\n",
       " 'KPOP': '75rPT4TszZleyYpYqzAZgf',\n",
       " 'anime covers': '3duEwjd8M5Hugz8UkAFQdC',\n",
       " 'lit anime music': '3LvTqHT3lOBomXlfqmUm8M',\n",
       " 'Shounen Anime Vibes (Anime Opening & Ending)': '5MjsmYfqrFrg0AMGKhg1JI'}"
      ]
     },
     "execution_count": 7,
     "metadata": {},
     "output_type": "execute_result"
    }
   ],
   "source": [
    "my_playlist"
   ]
  },
  {
   "cell_type": "code",
   "execution_count": 8,
   "metadata": {},
   "outputs": [],
   "source": [
    "pl_list = []\n",
    "for playlist in my_playlist.keys():\n",
    "    playlist_df = getTrackInfoFromPlaylist(user_id, my_playlist[playlist])\n",
    "    playlist_df['Playlist'] = playlist\n",
    "    pl_list.append(playlist_df)\n",
    "tracks_df = pd.concat(pl_list)"
   ]
  },
  {
   "cell_type": "code",
   "execution_count": 9,
   "metadata": {},
   "outputs": [
    {
     "data": {
      "text/html": [
       "<div>\n",
       "<style scoped>\n",
       "    .dataframe tbody tr th:only-of-type {\n",
       "        vertical-align: middle;\n",
       "    }\n",
       "\n",
       "    .dataframe tbody tr th {\n",
       "        vertical-align: top;\n",
       "    }\n",
       "\n",
       "    .dataframe thead th {\n",
       "        text-align: right;\n",
       "    }\n",
       "</style>\n",
       "<table border=\"1\" class=\"dataframe\">\n",
       "  <thead>\n",
       "    <tr style=\"text-align: right;\">\n",
       "      <th></th>\n",
       "      <th>Track Name</th>\n",
       "      <th>Track ID</th>\n",
       "      <th>Artist</th>\n",
       "      <th>Playlist</th>\n",
       "    </tr>\n",
       "  </thead>\n",
       "  <tbody>\n",
       "    <tr>\n",
       "      <th>0</th>\n",
       "      <td>Into the New World</td>\n",
       "      <td>24Gy6lVtCd8nOL2vzZiFyV</td>\n",
       "      <td>Girls' Generation</td>\n",
       "      <td>Kpop girl group songs that were a cultural reset</td>\n",
       "    </tr>\n",
       "    <tr>\n",
       "      <th>1</th>\n",
       "      <td>Tell Me</td>\n",
       "      <td>62x5q8OrmPpmlA8PpjrQt3</td>\n",
       "      <td>Wonder Girls</td>\n",
       "      <td>Kpop girl group songs that were a cultural reset</td>\n",
       "    </tr>\n",
       "    <tr>\n",
       "      <th>2</th>\n",
       "      <td>One More Time</td>\n",
       "      <td>1oD1B653Nje6Z0zoijB56I</td>\n",
       "      <td>Jewelry</td>\n",
       "      <td>Kpop girl group songs that were a cultural reset</td>\n",
       "    </tr>\n",
       "    <tr>\n",
       "      <th>3</th>\n",
       "      <td>So Hot</td>\n",
       "      <td>6ZizEG2wtzeHrgKEv1eBmD</td>\n",
       "      <td>Wonder Girls</td>\n",
       "      <td>Kpop girl group songs that were a cultural reset</td>\n",
       "    </tr>\n",
       "    <tr>\n",
       "      <th>4</th>\n",
       "      <td>Nobody</td>\n",
       "      <td>7C3JLAmQzy9SnTZjKcdzCA</td>\n",
       "      <td>Wonder Girls</td>\n",
       "      <td>Kpop girl group songs that were a cultural reset</td>\n",
       "    </tr>\n",
       "    <tr>\n",
       "      <th>...</th>\n",
       "      <td>...</td>\n",
       "      <td>...</td>\n",
       "      <td>...</td>\n",
       "      <td>...</td>\n",
       "    </tr>\n",
       "    <tr>\n",
       "      <th>97</th>\n",
       "      <td>自由の翼</td>\n",
       "      <td>0l6uRRIDPNw3OsmqCYkmvi</td>\n",
       "      <td>Linked Horizon</td>\n",
       "      <td>Shounen Anime Vibes (Anime Opening &amp; Ending)</td>\n",
       "    </tr>\n",
       "    <tr>\n",
       "      <th>98</th>\n",
       "      <td>H.T</td>\n",
       "      <td>27MWlouE3EXEJUZbiAS6tk</td>\n",
       "      <td>Tsuneo Imahori</td>\n",
       "      <td>Shounen Anime Vibes (Anime Opening &amp; Ending)</td>\n",
       "    </tr>\n",
       "    <tr>\n",
       "      <th>99</th>\n",
       "      <td>瞬間センチメンタル</td>\n",
       "      <td>53PJqUlPuzywePHDS7dm11</td>\n",
       "      <td>SCANDAL</td>\n",
       "      <td>Shounen Anime Vibes (Anime Opening &amp; Ending)</td>\n",
       "    </tr>\n",
       "    <tr>\n",
       "      <th>100</th>\n",
       "      <td>THE HERO !! 〜怒れる拳に火をつけろ〜</td>\n",
       "      <td>4YycgLIc3P6oQRY5NiOybl</td>\n",
       "      <td>JAM Project</td>\n",
       "      <td>Shounen Anime Vibes (Anime Opening &amp; Ending)</td>\n",
       "    </tr>\n",
       "    <tr>\n",
       "      <th>101</th>\n",
       "      <td>1/3の純情な感情</td>\n",
       "      <td>2Pe6RrDNo1lyv4D3ZWqndv</td>\n",
       "      <td>FLOW</td>\n",
       "      <td>Shounen Anime Vibes (Anime Opening &amp; Ending)</td>\n",
       "    </tr>\n",
       "  </tbody>\n",
       "</table>\n",
       "<p>546 rows × 4 columns</p>\n",
       "</div>"
      ],
      "text/plain": [
       "                   Track Name                Track ID             Artist  \\\n",
       "0          Into the New World  24Gy6lVtCd8nOL2vzZiFyV  Girls' Generation   \n",
       "1                     Tell Me  62x5q8OrmPpmlA8PpjrQt3       Wonder Girls   \n",
       "2               One More Time  1oD1B653Nje6Z0zoijB56I            Jewelry   \n",
       "3                      So Hot  6ZizEG2wtzeHrgKEv1eBmD       Wonder Girls   \n",
       "4                      Nobody  7C3JLAmQzy9SnTZjKcdzCA       Wonder Girls   \n",
       "..                        ...                     ...                ...   \n",
       "97                       自由の翼  0l6uRRIDPNw3OsmqCYkmvi     Linked Horizon   \n",
       "98                        H.T  27MWlouE3EXEJUZbiAS6tk     Tsuneo Imahori   \n",
       "99                  瞬間センチメンタル  53PJqUlPuzywePHDS7dm11            SCANDAL   \n",
       "100  THE HERO !! 〜怒れる拳に火をつけろ〜  4YycgLIc3P6oQRY5NiOybl        JAM Project   \n",
       "101                 1/3の純情な感情  2Pe6RrDNo1lyv4D3ZWqndv               FLOW   \n",
       "\n",
       "                                             Playlist  \n",
       "0    Kpop girl group songs that were a cultural reset  \n",
       "1    Kpop girl group songs that were a cultural reset  \n",
       "2    Kpop girl group songs that were a cultural reset  \n",
       "3    Kpop girl group songs that were a cultural reset  \n",
       "4    Kpop girl group songs that were a cultural reset  \n",
       "..                                                ...  \n",
       "97       Shounen Anime Vibes (Anime Opening & Ending)  \n",
       "98       Shounen Anime Vibes (Anime Opening & Ending)  \n",
       "99       Shounen Anime Vibes (Anime Opening & Ending)  \n",
       "100      Shounen Anime Vibes (Anime Opening & Ending)  \n",
       "101      Shounen Anime Vibes (Anime Opening & Ending)  \n",
       "\n",
       "[546 rows x 4 columns]"
      ]
     },
     "execution_count": 9,
     "metadata": {},
     "output_type": "execute_result"
    }
   ],
   "source": [
    "#remove none\n",
    "tracks_df.dropna(inplace=True)\n",
    "tracks_df"
   ]
  },
  {
   "cell_type": "code",
   "execution_count": 10,
   "metadata": {},
   "outputs": [],
   "source": [
    "def getAudioFeatures(track_id_list, limit=50, sleeptime=10):\n",
    "    features = []\n",
    "    n_calls = 0\n",
    "    for track_id in track_id_list:\n",
    "        feature = sp.audio_features([track_id])\n",
    "        features.append(feature)\n",
    "        n_calls+=1\n",
    "        if n_calls>50:\n",
    "            time.sleep(sleeptime)\n",
    "            n_calls = 0\n",
    "    return features"
   ]
  },
  {
   "cell_type": "code",
   "execution_count": 11,
   "metadata": {},
   "outputs": [],
   "source": [
    "def getAudioFeatures(track_id_list, limit=50):\n",
    "    features = []\n",
    "    index = 0\n",
    "    while index < len(track_id_list):\n",
    "        features += sp.audio_features(track_id_list[index:index+limit])\n",
    "        index += limit\n",
    "    return features"
   ]
  },
  {
   "cell_type": "code",
   "execution_count": 12,
   "metadata": {},
   "outputs": [],
   "source": [
    "audio_features = pd.DataFrame(getAudioFeatures(tracks_df['Track ID'].tolist()))"
   ]
  },
  {
   "cell_type": "code",
   "execution_count": 16,
   "metadata": {},
   "outputs": [],
   "source": [
    "audio_feature_columns = ['danceability', 'energy', 'key', 'loudness', 'mode', 'speechiness', 'acousticness', 'instrumentalness', 'liveness', 'valence', 'tempo', 'duration_ms', 'time_signature']"
   ]
  },
  {
   "cell_type": "code",
   "execution_count": 17,
   "metadata": {},
   "outputs": [],
   "source": [
    "df_merged_features = tracks_df.join(audio_features, how='inner', lsuffix='Track ID', rsuffix = 'id')"
   ]
  },
  {
   "cell_type": "code",
   "execution_count": 18,
   "metadata": {},
   "outputs": [],
   "source": [
    "df_merged_features.to_csv('kpop_data_science/playlist_features.csv', index=None)"
   ]
  }
 ],
 "metadata": {
  "kernelspec": {
   "display_name": "Python 3",
   "language": "python",
   "name": "python3"
  },
  "language_info": {
   "codemirror_mode": {
    "name": "ipython",
    "version": 3
   },
   "file_extension": ".py",
   "mimetype": "text/x-python",
   "name": "python",
   "nbconvert_exporter": "python",
   "pygments_lexer": "ipython3",
   "version": "3.7.6"
  }
 },
 "nbformat": 4,
 "nbformat_minor": 4
}
