{
 "cells": [
  {
   "cell_type": "markdown",
   "metadata": {},
   "source": [
    "### Import Packages"
   ]
  },
  {
   "cell_type": "code",
   "execution_count": 1,
   "metadata": {},
   "outputs": [],
   "source": [
    "import psycopg2\n",
    "import pandas as pd\n",
    "from spotipy.oauth2 import SpotifyClientCredentials, SpotifyOAuth\n",
    "from spotipy import util\n",
    "from configparser import ConfigParser\n",
    "import spotipy\n",
    "import json\n",
    "import requests\n",
    "import datetime\n",
    "from sqlalchemy import create_engine"
   ]
  },
  {
   "cell_type": "markdown",
   "metadata": {},
   "source": [
    "### Functions"
   ]
  },
  {
   "cell_type": "code",
   "execution_count": 2,
   "metadata": {
    "code_folding": [
     0,
     18,
     23,
     29,
     46,
     50,
     80,
     89,
     104,
     122,
     156
    ],
    "run_control": {
     "marked": true
    }
   },
   "outputs": [],
   "source": [
    "def config(section:str, filename='secrets.ini'):\n",
    "    # create a parser\n",
    "    parser = ConfigParser()\n",
    "    # read config file\n",
    "    parser.read(filename)\n",
    "\n",
    "    # get section, default to postgresql\n",
    "    db = {}\n",
    "    if parser.has_section(section):\n",
    "        params = parser.items(section)\n",
    "        for param in params:\n",
    "            db[param[0]] = param[1]\n",
    "    else:\n",
    "        raise Exception('Section {0} not found in the {1} file'.format(section, filename))\n",
    "    return db \n",
    "#def initialize_sp(scope, client_id, client_secret, redirect_uri):\n",
    "    sp = spotipy.Spotify(auth_manager=SpotifyOAuth(scope, client_id, client_secret,redirect_uri))\n",
    "    return sp\n",
    "def getplayListDict(user_id):\n",
    "    playlists = sp.user_playlists(user_id)\n",
    "    names = [x['name'] for x in playlists['items']]\n",
    "    ids = [x['id'] for x in playlists['items']]\n",
    "    return dict(zip(names, ids))\n",
    "def getTrackInfoFromPlaylist(user_id, playlist_id):\n",
    "    offset = 0\n",
    "    songs = []\n",
    "    while True:\n",
    "        content = sp.user_playlist_tracks(user_id, playlist_id, limit = 50, offset=offset)\n",
    "        songs += content['items']\n",
    "        if content['next'] is not None:\n",
    "            offset+=50\n",
    "        else:\n",
    "            break\n",
    "    names = [x['track']['name'] for x in songs]\n",
    "    ids = [x['track']['id'] for x in songs]\n",
    "    artist_ids = [x['track']['artists'][0]['id'] for x in songs]\n",
    "    artist_names = [x['track']['artists'][0]['name'] for x in songs]\n",
    "    popularity = [x['track']['popularity'] for x in songs]\n",
    "    release_date = [x['track']['album']['release_date'] for x in songs]\n",
    "    added_date = [x['added_at'] for x in songs]\n",
    "    df = pd.DataFrame({'Track Name': names, 'Track ID': ids, 'Artist ID': artist_ids, 'Artist Name': artist_names,'Track popularity': popularity, 'Release date': release_date, 'Added date': added_date})\n",
    "    df['Playlist ID'] = playlist_id\n",
    "    df['Release date'] = pd.to_datetime(df['Release date'])\n",
    "    df['Added date'] = pd.to_datetime(df['Added date'])\n",
    "    df['Song-Artist'] = df['Track Name'] + ' - ' + df['Artist Name']\n",
    "    return df\n",
    "def getArtistInfoFromPlaylist(user_id, playlist_id):\n",
    "    offset = 0\n",
    "    songs = []\n",
    "    genres = []\n",
    "    while True:\n",
    "        content = sp.user_playlist_tracks(user_id, playlist_id, limit = 50, offset=offset)\n",
    "        songs += content['items']\n",
    "        if content['next'] is not None:\n",
    "            offset+=50\n",
    "        else:\n",
    "            break\n",
    "            \n",
    "    artist_ids = [x['track']['artists'][0]['id'] for x in songs]\n",
    "    artist_ids = filter(None, artist_ids)\n",
    "    \n",
    "    n_calls = 0\n",
    "    artists = []\n",
    "    for artist_id in artist_ids:\n",
    "        try:\n",
    "            content = sp.artist(artist_id)\n",
    "            artists.append(content)\n",
    "        except Exception as e:\n",
    "            print(artist_id)\n",
    "            print(e)\n",
    "    try:\n",
    "        followers = [x['followers']['total'] for x in artists]\n",
    "        genres = [x['genres'] for x in artists]\n",
    "        popularity = [x['popularity'] for x in artists] \n",
    "        name = [x['name'] for x in artists]\n",
    "        ids = [x['id'] for x in artists]\n",
    "    except Exception as e:\n",
    "        print(e)\n",
    "    df = pd.DataFrame({'Artist ID':ids, 'Artist': name,'Artist Followers':followers, 'Artist genres': genres, 'Artist popularity':popularity})\n",
    "    return df\n",
    "def getAudioFeatures(track_id_list, limit=50):\n",
    "    features = []\n",
    "    index = 0\n",
    "    while index < len(track_id_list):\n",
    "        features += sp.audio_features(track_id_list[index:index+limit])\n",
    "        index += limit\n",
    "    df = pd.DataFrame(features)\n",
    "    df['Track ID'] = track_id_list\n",
    "    return df\n",
    "def getCurUserTopArtists(token, limit=50, offset=0, time_range='medium_term'):\n",
    "    offset = 0\n",
    "    artists = []\n",
    "    while True:\n",
    "        content = spotipy.Spotify(auth = token).current_user_top_artists(limit=50,time_range=time_range)\n",
    "        artists += content['items']\n",
    "        if content['next'] is not None:\n",
    "            offset+=50\n",
    "        else:\n",
    "            break\n",
    "    name = [x['name'] for x in artists]\n",
    "    ids = [x['id'] for x in artists]\n",
    "    df = pd.DataFrame({'Artist ID': ids, 'Artist': name})\n",
    "    df['User ID'] = user_id\n",
    "    return df\n",
    "def getCurUserTopTracks(token, limit=50, offset=0, time_range='medium_term'):\n",
    "    offset = 0\n",
    "    songs = []\n",
    "    while True:\n",
    "        content =  spotipy.Spotify(auth = token).current_user_top_tracks(limit=50,time_range=time_range)\n",
    "        songs += content['items']\n",
    "        if content['next'] is not None:\n",
    "            offset+=50\n",
    "        else:\n",
    "            break\n",
    "    names = [x['name'] for x in songs]\n",
    "    ids = [x['id'] for x in songs]\n",
    "    artists_ids = [x['artists'][0]['id'] for x in songs]\n",
    "    artist_names = [x['artists'][0]['name'] for x in songs]\n",
    "    df = pd.DataFrame({'Track Name': names, 'Track ID': ids, 'Artist ID': artists_ids, 'Artist Name': artist_names})\n",
    "    df['User ID'] = user_id\n",
    "    df['Song-Artist'] = df['Track Name'] + ' - ' + df['Artist Name']\n",
    "    return df\n",
    "def getCurrPlaying(token, user_id):\n",
    "    #https://developer.spotify.com/console/get-users-currently-playing-track/\n",
    "    params={\"market\":\"CA\", \"Authorization\": f\"Bearer {token}\"}\n",
    "    resp = requests.get('https://api.spotify.com/v1/me/player/currently-playing', headers = params)\n",
    "    if resp.status_code == 200:\n",
    "        resp = resp.json()\n",
    "        timestamp = datetime.datetime.fromtimestamp(resp['timestamp']/1000.0)\n",
    "        is_playing = resp['is_playing']\n",
    "        track_name = resp['item']['name']\n",
    "        track_id = resp['item']['id']\n",
    "        artist_name = resp['item']['artists'][0]['name']\n",
    "        artist_id = resp['item']['artists'][0]['id']\n",
    "        df = pd.DataFrame({'Timestamp': [timestamp], 'Track Name': [track_name], 'Track ID': [track_id],'Artist Name': [artist_name], 'Artist ID': [artist_id]})\n",
    "        df['User ID'] = user_id\n",
    "        df['Song-Artist'] = df['Track Name'] + ' - ' + df['Artist Name']\n",
    "    else:\n",
    "        df = pd.DataFrame(columns=['Timestamp', 'Track Name', 'Track ID','Artist Name', 'Artist ID', 'Song-Artist'])\n",
    "    return df\n",
    "def getUserRecentPlayed(token, user_id, limit=50):\n",
    "    #https://developer.spotify.com/console/get-recently-played/\n",
    "    params = {\"limit\": str(limit), \"Authorization\": f\"Bearer {token}\"}\n",
    "    resp = requests.get('https://api.spotify.com/v1/me/player/recently-played', headers = params)\n",
    "    if resp.status_code == 200:\n",
    "        items = resp.json()['items']\n",
    "        track_ids = [x['track']['id'] for x in items]\n",
    "        track_names = [x['track']['name'] for x in items]\n",
    "        artist_names = [x['track']['artists'][0]['name'] for x in items]\n",
    "        artist_ids = [x['track']['artists'][0]['id'] for x in items]\n",
    "        df = pd.DataFrame({'Track Name': track_names, 'Track ID': track_ids,'Artist Name': artist_names, 'Artist ID': artist_ids})\n",
    "        df['User ID'] = user_id\n",
    "        df['Song-Artist'] = df['Track Name'] + ' - ' + df['Artist Name']\n",
    "    else:\n",
    "        df = pd.DataFrame(columns=['Track Name', 'Track ID','Artist Name', 'Artist ID', 'User ID', 'Song-Artist'])\n",
    "    return df\n",
    "def getUserInfo(token, user_id):\n",
    "    content = spotipy.Spotify(auth = token).current_user()\n",
    "    df = pd.DataFrame()\n",
    "    df['Playlist Name'] = list(getplayListDict(user_id).keys())\n",
    "    df['Playlist ID'] = list(getplayListDict(user_id).values())\n",
    "    df['Followers'] = content['followers']['total']\n",
    "    df['Display Name'] = content['display_name']\n",
    "    df['User ID'] = user_id\n",
    "\n",
    "    return df"
   ]
  },
  {
   "cell_type": "markdown",
   "metadata": {},
   "source": [
    "### Main"
   ]
  },
  {
   "cell_type": "code",
   "execution_count": 3,
   "metadata": {
    "cell_style": "center",
    "run_control": {
     "marked": false
    }
   },
   "outputs": [
    {
     "name": "stdout",
     "output_type": "stream",
     "text": [
      "Get token from https://developer.spotify.com/console/get-recently-played/BQDahymmzVrvnMeJKCL1QPXU-ztTRxn5jXZMvL6FJB3NwIKBozaHUc_78Dedpjwtae01y8uLFYZh0F1m4r4YdaK1tPqtXMauuqr4C0rfB7vN8fVGCl7HtI-saE9opkZnqbH8Q88vHR6m2TVlqdejJBWMs5FX2Bn8kUgteKs93KaZ\n"
     ]
    }
   ],
   "source": [
    "spotify_secrets = config('spotify')\n",
    "cid = spotify_secrets['cid']\n",
    "secret = spotify_secrets['secret'] \n",
    "user_id = spotify_secrets['user_id']\n",
    "recent_token = input('Get token from https://developer.spotify.com/console/get-recently-played/')\n",
    "client_credentials_manager = SpotifyClientCredentials(client_id=cid, client_secret=secret) \n",
    "sp = spotipy.Spotify(client_credentials_manager=client_credentials_manager)\n",
    "refresh_auth = True\n",
    "URI = r\"http://localhost:8888\""
   ]
  },
  {
   "cell_type": "code",
   "execution_count": 4,
   "metadata": {
    "code_folding": [
     2,
     3
    ],
    "run_control": {
     "marked": false
    }
   },
   "outputs": [],
   "source": [
    "sp = spotipy.Spotify(client_credentials_manager=client_credentials_manager)\n",
    "get_token = 'top'\n",
    "try:\n",
    "    if get_token=='top':\n",
    "        token_top = util.prompt_for_user_token(scope='user-top-read', client_id=cid, client_secret=secret, redirect_uri=URI, username=user_id)\n",
    "    if get_token=='recent':\n",
    "        token_recplayed = util.prompt_for_user_token(scope='user-read-recently-played', client_id=cid, client_secret=secret, redirect_uri=URI, username=user_id)\n",
    "    if get_token=='current':\n",
    "        token_currplaying = util.prompt_for_user_token(scope='user-read-currently-playing', client_id=cid, client_secret=secret, redirect_uri=URI, username=user_id)\n",
    "except Exception as e:\n",
    "    print(e)"
   ]
  },
  {
   "cell_type": "code",
   "execution_count": 5,
   "metadata": {
    "code_folding": [],
    "run_control": {
     "marked": true
    }
   },
   "outputs": [
    {
     "ename": "KeyboardInterrupt",
     "evalue": "",
     "output_type": "error",
     "traceback": [
      "\u001b[1;31m---------------------------------------------------------------------------\u001b[0m",
      "\u001b[1;31mKeyboardInterrupt\u001b[0m                         Traceback (most recent call last)",
      "\u001b[1;32m<ipython-input-5-1e3a6e5f448a>\u001b[0m in \u001b[0;36m<module>\u001b[1;34m\u001b[0m\n\u001b[0;32m      5\u001b[0m \u001b[1;32mfor\u001b[0m \u001b[0mplaylist\u001b[0m \u001b[1;32min\u001b[0m \u001b[0mmy_playlist\u001b[0m\u001b[1;33m.\u001b[0m\u001b[0mkeys\u001b[0m\u001b[1;33m(\u001b[0m\u001b[1;33m)\u001b[0m\u001b[1;33m:\u001b[0m\u001b[1;33m\u001b[0m\u001b[1;33m\u001b[0m\u001b[0m\n\u001b[0;32m      6\u001b[0m     \u001b[0mplaylist_df_tracks\u001b[0m \u001b[1;33m=\u001b[0m \u001b[0mgetTrackInfoFromPlaylist\u001b[0m\u001b[1;33m(\u001b[0m\u001b[0muser_id\u001b[0m\u001b[1;33m,\u001b[0m \u001b[0mmy_playlist\u001b[0m\u001b[1;33m[\u001b[0m\u001b[0mplaylist\u001b[0m\u001b[1;33m]\u001b[0m\u001b[1;33m)\u001b[0m\u001b[1;33m\u001b[0m\u001b[1;33m\u001b[0m\u001b[0m\n\u001b[1;32m----> 7\u001b[1;33m     \u001b[0mplaylist_df_artists\u001b[0m \u001b[1;33m=\u001b[0m \u001b[0mgetArtistInfoFromPlaylist\u001b[0m\u001b[1;33m(\u001b[0m\u001b[0muser_id\u001b[0m\u001b[1;33m,\u001b[0m \u001b[0mmy_playlist\u001b[0m\u001b[1;33m[\u001b[0m\u001b[0mplaylist\u001b[0m\u001b[1;33m]\u001b[0m\u001b[1;33m)\u001b[0m\u001b[1;33m\u001b[0m\u001b[1;33m\u001b[0m\u001b[0m\n\u001b[0m\u001b[0;32m      8\u001b[0m \u001b[1;33m\u001b[0m\u001b[0m\n\u001b[0;32m      9\u001b[0m     \u001b[0mplaylist_df_tracks\u001b[0m\u001b[1;33m[\u001b[0m\u001b[1;34m'Playlist Name'\u001b[0m\u001b[1;33m]\u001b[0m \u001b[1;33m=\u001b[0m \u001b[0mplaylist\u001b[0m\u001b[1;33m\u001b[0m\u001b[1;33m\u001b[0m\u001b[0m\n",
      "\u001b[1;32m<ipython-input-2-73638f25792f>\u001b[0m in \u001b[0;36mgetArtistInfoFromPlaylist\u001b[1;34m(user_id, playlist_id)\u001b[0m\n\u001b[0;32m     64\u001b[0m     \u001b[1;32mfor\u001b[0m \u001b[0martist_id\u001b[0m \u001b[1;32min\u001b[0m \u001b[0martist_ids\u001b[0m\u001b[1;33m:\u001b[0m\u001b[1;33m\u001b[0m\u001b[1;33m\u001b[0m\u001b[0m\n\u001b[0;32m     65\u001b[0m         \u001b[1;32mtry\u001b[0m\u001b[1;33m:\u001b[0m\u001b[1;33m\u001b[0m\u001b[1;33m\u001b[0m\u001b[0m\n\u001b[1;32m---> 66\u001b[1;33m             \u001b[0mcontent\u001b[0m \u001b[1;33m=\u001b[0m \u001b[0msp\u001b[0m\u001b[1;33m.\u001b[0m\u001b[0martist\u001b[0m\u001b[1;33m(\u001b[0m\u001b[0martist_id\u001b[0m\u001b[1;33m)\u001b[0m\u001b[1;33m\u001b[0m\u001b[1;33m\u001b[0m\u001b[0m\n\u001b[0m\u001b[0;32m     67\u001b[0m             \u001b[0martists\u001b[0m\u001b[1;33m.\u001b[0m\u001b[0mappend\u001b[0m\u001b[1;33m(\u001b[0m\u001b[0mcontent\u001b[0m\u001b[1;33m)\u001b[0m\u001b[1;33m\u001b[0m\u001b[1;33m\u001b[0m\u001b[0m\n\u001b[0;32m     68\u001b[0m         \u001b[1;32mexcept\u001b[0m \u001b[0mException\u001b[0m \u001b[1;32mas\u001b[0m \u001b[0me\u001b[0m\u001b[1;33m:\u001b[0m\u001b[1;33m\u001b[0m\u001b[1;33m\u001b[0m\u001b[0m\n",
      "\u001b[1;32m~\\anaconda3\\lib\\site-packages\\spotipy\\client.py\u001b[0m in \u001b[0;36martist\u001b[1;34m(self, artist_id)\u001b[0m\n\u001b[0;32m    364\u001b[0m \u001b[1;33m\u001b[0m\u001b[0m\n\u001b[0;32m    365\u001b[0m         \u001b[0mtrid\u001b[0m \u001b[1;33m=\u001b[0m \u001b[0mself\u001b[0m\u001b[1;33m.\u001b[0m\u001b[0m_get_id\u001b[0m\u001b[1;33m(\u001b[0m\u001b[1;34m\"artist\"\u001b[0m\u001b[1;33m,\u001b[0m \u001b[0martist_id\u001b[0m\u001b[1;33m)\u001b[0m\u001b[1;33m\u001b[0m\u001b[1;33m\u001b[0m\u001b[0m\n\u001b[1;32m--> 366\u001b[1;33m         \u001b[1;32mreturn\u001b[0m \u001b[0mself\u001b[0m\u001b[1;33m.\u001b[0m\u001b[0m_get\u001b[0m\u001b[1;33m(\u001b[0m\u001b[1;34m\"artists/\"\u001b[0m \u001b[1;33m+\u001b[0m \u001b[0mtrid\u001b[0m\u001b[1;33m)\u001b[0m\u001b[1;33m\u001b[0m\u001b[1;33m\u001b[0m\u001b[0m\n\u001b[0m\u001b[0;32m    367\u001b[0m \u001b[1;33m\u001b[0m\u001b[0m\n\u001b[0;32m    368\u001b[0m     \u001b[1;32mdef\u001b[0m \u001b[0martists\u001b[0m\u001b[1;33m(\u001b[0m\u001b[0mself\u001b[0m\u001b[1;33m,\u001b[0m \u001b[0martists\u001b[0m\u001b[1;33m)\u001b[0m\u001b[1;33m:\u001b[0m\u001b[1;33m\u001b[0m\u001b[1;33m\u001b[0m\u001b[0m\n",
      "\u001b[1;32m~\\anaconda3\\lib\\site-packages\\spotipy\\client.py\u001b[0m in \u001b[0;36m_get\u001b[1;34m(self, url, args, payload, **kwargs)\u001b[0m\n\u001b[0;32m    295\u001b[0m             \u001b[0mkwargs\u001b[0m\u001b[1;33m.\u001b[0m\u001b[0mupdate\u001b[0m\u001b[1;33m(\u001b[0m\u001b[0margs\u001b[0m\u001b[1;33m)\u001b[0m\u001b[1;33m\u001b[0m\u001b[1;33m\u001b[0m\u001b[0m\n\u001b[0;32m    296\u001b[0m \u001b[1;33m\u001b[0m\u001b[0m\n\u001b[1;32m--> 297\u001b[1;33m         \u001b[1;32mreturn\u001b[0m \u001b[0mself\u001b[0m\u001b[1;33m.\u001b[0m\u001b[0m_internal_call\u001b[0m\u001b[1;33m(\u001b[0m\u001b[1;34m\"GET\"\u001b[0m\u001b[1;33m,\u001b[0m \u001b[0murl\u001b[0m\u001b[1;33m,\u001b[0m \u001b[0mpayload\u001b[0m\u001b[1;33m,\u001b[0m \u001b[0mkwargs\u001b[0m\u001b[1;33m)\u001b[0m\u001b[1;33m\u001b[0m\u001b[1;33m\u001b[0m\u001b[0m\n\u001b[0m\u001b[0;32m    298\u001b[0m \u001b[1;33m\u001b[0m\u001b[0m\n\u001b[0;32m    299\u001b[0m     \u001b[1;32mdef\u001b[0m \u001b[0m_post\u001b[0m\u001b[1;33m(\u001b[0m\u001b[0mself\u001b[0m\u001b[1;33m,\u001b[0m \u001b[0murl\u001b[0m\u001b[1;33m,\u001b[0m \u001b[0margs\u001b[0m\u001b[1;33m=\u001b[0m\u001b[1;32mNone\u001b[0m\u001b[1;33m,\u001b[0m \u001b[0mpayload\u001b[0m\u001b[1;33m=\u001b[0m\u001b[1;32mNone\u001b[0m\u001b[1;33m,\u001b[0m \u001b[1;33m**\u001b[0m\u001b[0mkwargs\u001b[0m\u001b[1;33m)\u001b[0m\u001b[1;33m:\u001b[0m\u001b[1;33m\u001b[0m\u001b[1;33m\u001b[0m\u001b[0m\n",
      "\u001b[1;32m~\\anaconda3\\lib\\site-packages\\spotipy\\client.py\u001b[0m in \u001b[0;36m_internal_call\u001b[1;34m(self, method, url, payload, params)\u001b[0m\n\u001b[0;32m    240\u001b[0m             response = self._session.request(\n\u001b[0;32m    241\u001b[0m                 \u001b[0mmethod\u001b[0m\u001b[1;33m,\u001b[0m \u001b[0murl\u001b[0m\u001b[1;33m,\u001b[0m \u001b[0mheaders\u001b[0m\u001b[1;33m=\u001b[0m\u001b[0mheaders\u001b[0m\u001b[1;33m,\u001b[0m \u001b[0mproxies\u001b[0m\u001b[1;33m=\u001b[0m\u001b[0mself\u001b[0m\u001b[1;33m.\u001b[0m\u001b[0mproxies\u001b[0m\u001b[1;33m,\u001b[0m\u001b[1;33m\u001b[0m\u001b[1;33m\u001b[0m\u001b[0m\n\u001b[1;32m--> 242\u001b[1;33m                 \u001b[0mtimeout\u001b[0m\u001b[1;33m=\u001b[0m\u001b[0mself\u001b[0m\u001b[1;33m.\u001b[0m\u001b[0mrequests_timeout\u001b[0m\u001b[1;33m,\u001b[0m \u001b[1;33m**\u001b[0m\u001b[0margs\u001b[0m\u001b[1;33m\u001b[0m\u001b[1;33m\u001b[0m\u001b[0m\n\u001b[0m\u001b[0;32m    243\u001b[0m             )\n\u001b[0;32m    244\u001b[0m \u001b[1;33m\u001b[0m\u001b[0m\n",
      "\u001b[1;32m~\\anaconda3\\lib\\site-packages\\requests\\sessions.py\u001b[0m in \u001b[0;36mrequest\u001b[1;34m(self, method, url, params, data, headers, cookies, files, auth, timeout, allow_redirects, proxies, hooks, stream, verify, cert, json)\u001b[0m\n\u001b[0;32m    540\u001b[0m         }\n\u001b[0;32m    541\u001b[0m         \u001b[0msend_kwargs\u001b[0m\u001b[1;33m.\u001b[0m\u001b[0mupdate\u001b[0m\u001b[1;33m(\u001b[0m\u001b[0msettings\u001b[0m\u001b[1;33m)\u001b[0m\u001b[1;33m\u001b[0m\u001b[1;33m\u001b[0m\u001b[0m\n\u001b[1;32m--> 542\u001b[1;33m         \u001b[0mresp\u001b[0m \u001b[1;33m=\u001b[0m \u001b[0mself\u001b[0m\u001b[1;33m.\u001b[0m\u001b[0msend\u001b[0m\u001b[1;33m(\u001b[0m\u001b[0mprep\u001b[0m\u001b[1;33m,\u001b[0m \u001b[1;33m**\u001b[0m\u001b[0msend_kwargs\u001b[0m\u001b[1;33m)\u001b[0m\u001b[1;33m\u001b[0m\u001b[1;33m\u001b[0m\u001b[0m\n\u001b[0m\u001b[0;32m    543\u001b[0m \u001b[1;33m\u001b[0m\u001b[0m\n\u001b[0;32m    544\u001b[0m         \u001b[1;32mreturn\u001b[0m \u001b[0mresp\u001b[0m\u001b[1;33m\u001b[0m\u001b[1;33m\u001b[0m\u001b[0m\n",
      "\u001b[1;32m~\\anaconda3\\lib\\site-packages\\requests\\sessions.py\u001b[0m in \u001b[0;36msend\u001b[1;34m(self, request, **kwargs)\u001b[0m\n\u001b[0;32m    653\u001b[0m \u001b[1;33m\u001b[0m\u001b[0m\n\u001b[0;32m    654\u001b[0m         \u001b[1;31m# Send the request\u001b[0m\u001b[1;33m\u001b[0m\u001b[1;33m\u001b[0m\u001b[1;33m\u001b[0m\u001b[0m\n\u001b[1;32m--> 655\u001b[1;33m         \u001b[0mr\u001b[0m \u001b[1;33m=\u001b[0m \u001b[0madapter\u001b[0m\u001b[1;33m.\u001b[0m\u001b[0msend\u001b[0m\u001b[1;33m(\u001b[0m\u001b[0mrequest\u001b[0m\u001b[1;33m,\u001b[0m \u001b[1;33m**\u001b[0m\u001b[0mkwargs\u001b[0m\u001b[1;33m)\u001b[0m\u001b[1;33m\u001b[0m\u001b[1;33m\u001b[0m\u001b[0m\n\u001b[0m\u001b[0;32m    656\u001b[0m \u001b[1;33m\u001b[0m\u001b[0m\n\u001b[0;32m    657\u001b[0m         \u001b[1;31m# Total elapsed time of the request (approximately)\u001b[0m\u001b[1;33m\u001b[0m\u001b[1;33m\u001b[0m\u001b[1;33m\u001b[0m\u001b[0m\n",
      "\u001b[1;32m~\\anaconda3\\lib\\site-packages\\requests\\adapters.py\u001b[0m in \u001b[0;36msend\u001b[1;34m(self, request, stream, timeout, verify, cert, proxies)\u001b[0m\n\u001b[0;32m    447\u001b[0m                     \u001b[0mdecode_content\u001b[0m\u001b[1;33m=\u001b[0m\u001b[1;32mFalse\u001b[0m\u001b[1;33m,\u001b[0m\u001b[1;33m\u001b[0m\u001b[1;33m\u001b[0m\u001b[0m\n\u001b[0;32m    448\u001b[0m                     \u001b[0mretries\u001b[0m\u001b[1;33m=\u001b[0m\u001b[0mself\u001b[0m\u001b[1;33m.\u001b[0m\u001b[0mmax_retries\u001b[0m\u001b[1;33m,\u001b[0m\u001b[1;33m\u001b[0m\u001b[1;33m\u001b[0m\u001b[0m\n\u001b[1;32m--> 449\u001b[1;33m                     \u001b[0mtimeout\u001b[0m\u001b[1;33m=\u001b[0m\u001b[0mtimeout\u001b[0m\u001b[1;33m\u001b[0m\u001b[1;33m\u001b[0m\u001b[0m\n\u001b[0m\u001b[0;32m    450\u001b[0m                 )\n\u001b[0;32m    451\u001b[0m \u001b[1;33m\u001b[0m\u001b[0m\n",
      "\u001b[1;32m~\\anaconda3\\lib\\site-packages\\urllib3\\connectionpool.py\u001b[0m in \u001b[0;36murlopen\u001b[1;34m(self, method, url, body, headers, retries, redirect, assert_same_host, timeout, pool_timeout, release_conn, chunked, body_pos, **response_kw)\u001b[0m\n\u001b[0;32m    842\u001b[0m \u001b[1;33m\u001b[0m\u001b[0m\n\u001b[0;32m    843\u001b[0m             \u001b[0mresponse\u001b[0m\u001b[1;33m.\u001b[0m\u001b[0mdrain_conn\u001b[0m\u001b[1;33m(\u001b[0m\u001b[1;33m)\u001b[0m\u001b[1;33m\u001b[0m\u001b[1;33m\u001b[0m\u001b[0m\n\u001b[1;32m--> 844\u001b[1;33m             \u001b[0mretries\u001b[0m\u001b[1;33m.\u001b[0m\u001b[0msleep\u001b[0m\u001b[1;33m(\u001b[0m\u001b[0mresponse\u001b[0m\u001b[1;33m)\u001b[0m\u001b[1;33m\u001b[0m\u001b[1;33m\u001b[0m\u001b[0m\n\u001b[0m\u001b[0;32m    845\u001b[0m             \u001b[0mlog\u001b[0m\u001b[1;33m.\u001b[0m\u001b[0mdebug\u001b[0m\u001b[1;33m(\u001b[0m\u001b[1;34m\"Retry: %s\"\u001b[0m\u001b[1;33m,\u001b[0m \u001b[0murl\u001b[0m\u001b[1;33m)\u001b[0m\u001b[1;33m\u001b[0m\u001b[1;33m\u001b[0m\u001b[0m\n\u001b[0;32m    846\u001b[0m             return self.urlopen(\n",
      "\u001b[1;32m~\\anaconda3\\lib\\site-packages\\urllib3\\util\\retry.py\u001b[0m in \u001b[0;36msleep\u001b[1;34m(self, response)\u001b[0m\n\u001b[0;32m    408\u001b[0m \u001b[1;33m\u001b[0m\u001b[0m\n\u001b[0;32m    409\u001b[0m         \u001b[1;32mif\u001b[0m \u001b[0mself\u001b[0m\u001b[1;33m.\u001b[0m\u001b[0mrespect_retry_after_header\u001b[0m \u001b[1;32mand\u001b[0m \u001b[0mresponse\u001b[0m\u001b[1;33m:\u001b[0m\u001b[1;33m\u001b[0m\u001b[1;33m\u001b[0m\u001b[0m\n\u001b[1;32m--> 410\u001b[1;33m             \u001b[0mslept\u001b[0m \u001b[1;33m=\u001b[0m \u001b[0mself\u001b[0m\u001b[1;33m.\u001b[0m\u001b[0msleep_for_retry\u001b[0m\u001b[1;33m(\u001b[0m\u001b[0mresponse\u001b[0m\u001b[1;33m)\u001b[0m\u001b[1;33m\u001b[0m\u001b[1;33m\u001b[0m\u001b[0m\n\u001b[0m\u001b[0;32m    411\u001b[0m             \u001b[1;32mif\u001b[0m \u001b[0mslept\u001b[0m\u001b[1;33m:\u001b[0m\u001b[1;33m\u001b[0m\u001b[1;33m\u001b[0m\u001b[0m\n\u001b[0;32m    412\u001b[0m                 \u001b[1;32mreturn\u001b[0m\u001b[1;33m\u001b[0m\u001b[1;33m\u001b[0m\u001b[0m\n",
      "\u001b[1;32m~\\anaconda3\\lib\\site-packages\\urllib3\\util\\retry.py\u001b[0m in \u001b[0;36msleep_for_retry\u001b[1;34m(self, response)\u001b[0m\n\u001b[0;32m    387\u001b[0m         \u001b[0mretry_after\u001b[0m \u001b[1;33m=\u001b[0m \u001b[0mself\u001b[0m\u001b[1;33m.\u001b[0m\u001b[0mget_retry_after\u001b[0m\u001b[1;33m(\u001b[0m\u001b[0mresponse\u001b[0m\u001b[1;33m)\u001b[0m\u001b[1;33m\u001b[0m\u001b[1;33m\u001b[0m\u001b[0m\n\u001b[0;32m    388\u001b[0m         \u001b[1;32mif\u001b[0m \u001b[0mretry_after\u001b[0m\u001b[1;33m:\u001b[0m\u001b[1;33m\u001b[0m\u001b[1;33m\u001b[0m\u001b[0m\n\u001b[1;32m--> 389\u001b[1;33m             \u001b[0mtime\u001b[0m\u001b[1;33m.\u001b[0m\u001b[0msleep\u001b[0m\u001b[1;33m(\u001b[0m\u001b[0mretry_after\u001b[0m\u001b[1;33m)\u001b[0m\u001b[1;33m\u001b[0m\u001b[1;33m\u001b[0m\u001b[0m\n\u001b[0m\u001b[0;32m    390\u001b[0m             \u001b[1;32mreturn\u001b[0m \u001b[1;32mTrue\u001b[0m\u001b[1;33m\u001b[0m\u001b[1;33m\u001b[0m\u001b[0m\n\u001b[0;32m    391\u001b[0m \u001b[1;33m\u001b[0m\u001b[0m\n",
      "\u001b[1;31mKeyboardInterrupt\u001b[0m: "
     ]
    }
   ],
   "source": [
    "#Generate Artist and Track DataFrames\n",
    "my_playlist = getplayListDict(user_id)\n",
    "concat_df_tracks = []\n",
    "concat_df_artists = []\n",
    "for playlist in my_playlist.keys():\n",
    "    playlist_df_tracks = getTrackInfoFromPlaylist(user_id, my_playlist[playlist])\n",
    "    playlist_df_artists = getArtistInfoFromPlaylist(user_id, my_playlist[playlist])\n",
    "    \n",
    "    playlist_df_tracks['Playlist Name'] = playlist\n",
    "    playlist_df_artists['Playlist Name'] = playlist\n",
    "\n",
    "    concat_df_tracks.append(playlist_df_tracks)\n",
    "    concat_df_artists.append(playlist_df_artists)\n",
    "    \n",
    "tracks_df = pd.concat(concat_df_tracks)\n",
    "artists_df = pd.concat(concat_df_artists)\n",
    "\n",
    "#Tracks df\n",
    "tracks_df.dropna(inplace=True)\n",
    "#Artists df\n",
    "artists_df.dropna(inplace=True)\n",
    "artists_df.drop_duplicates(inplace=True, subset='Artist ID')\n",
    "\n",
    "#Audio features\n",
    "audio_features = getAudioFeatures(tracks_df['Track ID'].tolist())\n",
    "audio_features.drop_duplicates(inplace=True, subset='Track ID')\n",
    "#Currently playing\n",
    "#curr_playing_df = getCurrPlaying(current_token, user_id)\n",
    "#Recent played\n",
    "recent_playing_df = getUserRecentPlayed(recent_token, user_id)\n",
    "#top artists and tracks\n",
    "top_tracks_df_med = getCurUserTopTracks(token_top, limit=50, time_range='medium_term')\n",
    "top_tracks_df_long = getCurUserTopTracks(token_top, limit=50, time_range='long_term')\n",
    "top_artists_df_med = getCurUserTopArtists(token_top, limit=20, time_range='medium_term')\n",
    "top_artists_df_long = getCurUserTopArtists(token_top, limit=20, time_range='long_term')\n",
    "#user df\n",
    "user_df = getUserInfo(token_top, user_id)"
   ]
  },
  {
   "cell_type": "markdown",
   "metadata": {},
   "source": [
    "### Export to PostgreSQL DB"
   ]
  },
  {
   "cell_type": "code",
   "execution_count": null,
   "metadata": {},
   "outputs": [],
   "source": [
    "postgresql_secrets = config('postgresql')\n",
    "host=postgresql_secrets['host']\n",
    "database=postgresql_secrets['database']\n",
    "user=postgresql_secrets['user']\n",
    "password=postgresql_secrets['password']\n",
    "port=postgresql_secrets['port']"
   ]
  },
  {
   "cell_type": "code",
   "execution_count": null,
   "metadata": {},
   "outputs": [],
   "source": [
    "engine = create_engine(f'postgresql+psycopg2://{user}:{password}@{host}:{port}/{database}')"
   ]
  },
  {
   "cell_type": "code",
   "execution_count": null,
   "metadata": {},
   "outputs": [],
   "source": [
    "user_df.to_sql('user_info', engine, if_exists='replace',index=False)\n",
    "tracks_df.to_sql('tracks', engine, if_exists='replace',index=False)\n",
    "artists_df.to_sql('artists', engine, if_exists='replace',index=False)\n",
    "audio_features.to_sql('audio_features', engine, if_exists='replace',index=False)\n",
    "recent_playing_df.to_sql('recent_playing', engine, if_exists='replace',index=False)\n",
    "top_tracks_df_med.to_sql('top_tracks_med', engine, if_exists='replace',index=False)\n",
    "top_tracks_df_long.to_sql('top_tracks_long', engine, if_exists='replace',index=False)\n",
    "top_artists_df_med.to_sql('top_artists_med', engine, if_exists='replace',index=False)\n",
    "top_artists_df_long.to_sql('top_artists_long', engine, if_exists='replace',index=False)"
   ]
  }
 ],
 "metadata": {
  "kernelspec": {
   "display_name": "Python 3",
   "language": "python",
   "name": "python3"
  },
  "language_info": {
   "codemirror_mode": {
    "name": "ipython",
    "version": 3
   },
   "file_extension": ".py",
   "mimetype": "text/x-python",
   "name": "python",
   "nbconvert_exporter": "python",
   "pygments_lexer": "ipython3",
   "version": "3.7.6"
  },
  "notify_time": "10"
 },
 "nbformat": 4,
 "nbformat_minor": 4
}
